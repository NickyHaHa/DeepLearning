{
 "cells": [
  {
   "cell_type": "code",
   "execution_count": 186,
   "id": "1b25650f",
   "metadata": {},
   "outputs": [],
   "source": [
    "import numpy as np\n",
    "import matplotlib.pyplot as plt\n",
    "\n",
    "# PLA = w1x1 + w2x2 + b"
   ]
  },
  {
   "cell_type": "code",
   "execution_count": 187,
   "id": "94019f12",
   "metadata": {},
   "outputs": [],
   "source": [
    "train = np.array([(1, 0, 1), (1, 3, -1), (2, -6, 1),\n",
    "                 (-1, -3, 1), (-5, 5, -1), (5, 2, 1),\n",
    "                 (-2, 2, -1), (-7, 2, -1), (4, -4, 1),\n",
    "                 (-5, -1, -1)], dtype = int)\n",
    "\n",
    "test = np.array([(2, -4, 0), (-5, 1, 0), (-2, -2, 0)], dtype = int)"
   ]
  },
  {
   "cell_type": "code",
   "execution_count": 188,
   "id": "405d4e1f",
   "metadata": {},
   "outputs": [],
   "source": [
    "# Weights and Bias\n",
    "# My student number\n",
    "w1 = 0.407\n",
    "w2 = 0.262\n",
    "b = 0.316"
   ]
  },
  {
   "cell_type": "code",
   "execution_count": 189,
   "id": "26ea698e",
   "metadata": {},
   "outputs": [],
   "source": [
    "def sign(A):\n",
    "    if A > 0:\n",
    "        return 1\n",
    "    elif A < 0:\n",
    "        return -1\n",
    "    else:\n",
    "        return 0"
   ]
  },
  {
   "cell_type": "code",
   "execution_count": 190,
   "id": "0d006e26",
   "metadata": {
    "scrolled": true
   },
   "outputs": [
    {
     "name": "stdout",
     "output_type": "stream",
     "text": [
      "-1.2056135729150805 -4.575840718745242 -1.2966135729150805\n",
      "13.297394748502487 1.2253626098217847 1.603988091368433\n",
      "8.248615839511366 -13.920974117151578 -3.444790817622688\n",
      "\n",
      "==== ==== ==== ====\n",
      "\n",
      "total epoch = 3\n",
      "weight-1 = 8.248615839511366\n",
      "weight-2 = -13.920974117151578\n",
      "bias = -3.444790817622688\n",
      "The line is 8.248615839511366 * x1 + -13.920974117151578 * x2 + -3.444790817622688 = 0\n"
     ]
    }
   ],
   "source": [
    "epoch = 0\n",
    "correct = 0\n",
    "warning = 1000\n",
    "\n",
    "# Learning rate 0 < LA < 1\n",
    "LA = 0.1\n",
    "\n",
    "# Check data good or bad, all good is done!\n",
    "while correct != 10 and epoch != warning:\n",
    "    correct = 0\n",
    "    epoch += 1\n",
    "    for i in train:\n",
    "        LA = LA + 1 / (correct + 0.99)\n",
    "        if sign( w1 * i[0] + w2 * i[1] + b ) != i[2]:\n",
    "            w1 = w1 + LA * i[2] * i[0]\n",
    "            w2 = w2 + LA * i[2] * i[1]\n",
    "            b = b + LA * i[2]\n",
    "            print(w1, w2, b)\n",
    "        else:\n",
    "            correct += 1\n",
    "\n",
    "print(\"\\n==== ==== ==== ====\\n\")\n",
    "print(\"total epoch = {}\".format(epoch))\n",
    "print(\"weight-1 = {}\".format(w1))\n",
    "print(\"weight-2 = {}\".format(w2))\n",
    "print(\"bias = {}\".format(b))\n",
    "print(\"The line is {} * x1 + {} * x2 + {} = 0\".format(w1, w2, b))"
   ]
  },
  {
   "cell_type": "code",
   "execution_count": 191,
   "id": "94035364",
   "metadata": {},
   "outputs": [
    {
     "name": "stdout",
     "output_type": "stream",
     "text": [
      "test-1 value = 1\n",
      "test-2 value = -1\n",
      "test-3 value = 1\n"
     ]
    }
   ],
   "source": [
    "cnt = 0\n",
    "\n",
    "# Check test data\n",
    "for i in test:\n",
    "    cnt += 1\n",
    "    val = sign( w1 * i[0] + w2 * i[1] + b )\n",
    "    i[2] = val\n",
    "    print('test-{} value = {}'.format(cnt, val))"
   ]
  },
  {
   "cell_type": "code",
   "execution_count": 192,
   "id": "2fdceb68",
   "metadata": {},
   "outputs": [],
   "source": [
    "def line(x):\n",
    "    return ( w1 * x + b ) / (-w2)"
   ]
  },
  {
   "cell_type": "code",
   "execution_count": 193,
   "id": "443949a4",
   "metadata": {},
   "outputs": [
    {
     "data": {
      "text/plain": [
       "<matplotlib.legend.Legend at 0x1d62bcf7b80>"
      ]
     },
     "execution_count": 193,
     "metadata": {},
     "output_type": "execute_result"
    },
    {
     "data": {
      "image/png": "[encoded data removed]",
      "text/plain": [
       "<Figure size 432x288 with 1 Axes>"
      ]
     },
     "metadata": {
      "needs_background": "light"
     },
     "output_type": "display_data"
    }
   ],
   "source": [
    "plt.title(\"Training and Testing data\")\n",
    "plt.xlabel(\"x1\")\n",
    "plt.ylabel(\"x2\")\n",
    "\n",
    "g1 = []\n",
    "g2 = []\n",
    "r1 = []\n",
    "r2 = []\n",
    "c1 = []\n",
    "c2 = []\n",
    "m1 = []\n",
    "m2 = []\n",
    "\n",
    "# Show the relation of data and line\n",
    "# Grouping with class values\n",
    "for i in train:\n",
    "    if i[2] > 0:\n",
    "        g1.append(i[0])\n",
    "        g2.append(i[1])\n",
    "    elif i[2] < 0:\n",
    "        r1.append(i[0])\n",
    "        r2.append(i[1])\n",
    "    else:\n",
    "        plt.plot(i[0], i[1], 'xk', label='ambiguity (Train)')\n",
    "\n",
    "for i in test:\n",
    "    if i[2] > 0:\n",
    "        c1.append(i[0])\n",
    "        c2.append(i[1])\n",
    "    elif i[2] < 0:\n",
    "        m1.append(i[0])\n",
    "        m2.append(i[1])\n",
    "    else:\n",
    "        plt.plot(i[0], i[1], '^c', label='ambiguity (Test)')\n",
    "        \n",
    "        \n",
    "plt.plot(g1, g2, 'og', label='+1 (Train)')\n",
    "plt.plot(r1, r2, 'or', label='-1 (Train)')\n",
    "\n",
    "plt.plot(c1, c2, '^c', label='+1 (Test)')\n",
    "plt.plot(m1, m2, '^m', label='-1 (Test)')\n",
    "        \n",
    "# Put points from -10 to 10\n",
    "space = np.linspace(-10, 10, 50)\n",
    "plt.plot(space, line(space), '-b', label='PLA line')\n",
    "\n",
    "plt.legend()"
   ]
  },
  {
   "cell_type": "code",
   "execution_count": null,
   "id": "9f5cd09e",
   "metadata": {},
   "outputs": [],
   "source": []
  }
 ],
 "metadata": {
  "kernelspec": {
   "display_name": "Python (tensorflow-gpu)",
   "language": "python",
   "name": "tensorflow-gpu"
  },
  "language_info": {
   "codemirror_mode": {
    "name": "ipython",
    "version": 3
   },
   "file_extension": ".py",
   "mimetype": "text/x-python",
   "name": "python",
   "nbconvert_exporter": "python",
   "pygments_lexer": "ipython3",
   "version": "3.8.8"
  }
 },
 "nbformat": 4,
 "nbformat_minor": 5
}
