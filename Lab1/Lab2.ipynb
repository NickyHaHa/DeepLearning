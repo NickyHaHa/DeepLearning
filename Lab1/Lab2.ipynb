{
 "cells": [
  {
   "cell_type": "code",
   "execution_count": 1,
   "id": "fc96e5e0",
   "metadata": {},
   "outputs": [],
   "source": [
    "import numpy as np\n",
    "import matplotlib.pyplot as plt\n",
    "\n",
    "# PLA = w1x1 + w2x2 + b"
   ]
  },
  {
   "cell_type": "code",
   "execution_count": 2,
   "id": "da80c162",
   "metadata": {},
   "outputs": [],
   "source": [
    "# Load data from local\n",
    "data1 = np.loadtxt('Iris_training.txt', dtype=str)\n",
    "data2 = np.loadtxt('Iris_test.txt', dtype=str)\n",
    "\n",
    "train = []\n",
    "test = []\n",
    "\n",
    "for line in data1:\n",
    "    split = line.split(',')\n",
    "    train.append(( float(split[0]), float(split[1]), int(split[2]) ))\n",
    "\n",
    "for line in data2:\n",
    "    split = line.split(',')\n",
    "    test.append(( float(split[0]), float(split[1]), int(split[2]) ))"
   ]
  },
  {
   "cell_type": "code",
   "execution_count": 3,
   "id": "81bf2519",
   "metadata": {},
   "outputs": [],
   "source": [
    "# Weights and Bias\n",
    "# Now time is 8:41, 10/10, and 3 hrs spent\n",
    "w1 = 0.841\n",
    "w2 = 0.1010\n",
    "b = 0.0003"
   ]
  },
  {
   "cell_type": "code",
   "execution_count": 4,
   "id": "f9230c03",
   "metadata": {},
   "outputs": [],
   "source": [
    "def sign(A):\n",
    "    if A > 0:\n",
    "        return 1\n",
    "    elif A < 0:\n",
    "        return -1\n",
    "    else:\n",
    "        return 0"
   ]
  },
  {
   "cell_type": "code",
   "execution_count": 5,
   "id": "fc27093a",
   "metadata": {
    "scrolled": true
   },
   "outputs": [
    {
     "name": "stdout",
     "output_type": "stream",
     "text": [
      "\n",
      "==== ==== ==== ====\n",
      "\n",
      "total epoch = 2\n",
      "weight-1 = -22.551263965803116\n",
      "weight-2 = 37.53621781885121\n",
      "bias = 3.9603309115504444\n",
      "The line is -22.551263965803116 * x1 + 37.53621781885121 * x2 + 3.9603309115504444 = 0\n",
      "Training accuracy = 100.0%\n"
     ]
    }
   ],
   "source": [
    "epoch = 0\n",
    "correct = 0\n",
    "warning = 1000\n",
    "\n",
    "cnt = 0\n",
    "for i in train:\n",
    "    cnt += 1\n",
    "\n",
    "# Learning rate 0 < LA < 1\n",
    "LA = 0.0015\n",
    "\n",
    "# Check data good or bad, all good is done!\n",
    "while correct != cnt and epoch != warning:\n",
    "    correct = 0\n",
    "    epoch += 1\n",
    "    for i in train:\n",
    "        # Learning rate biger or smaller by correct counts\n",
    "        LA = LA + 1 / (correct + 0.99)\n",
    "        if sign( w1 * i[0] + w2 * i[1] + b ) != i[2]:\n",
    "            w1 = w1 + LA * i[2] * i[0]\n",
    "            w2 = w2 + LA * i[2] * i[1]\n",
    "            b = b + LA * i[2]\n",
    "#             print(w1, w2, b)\n",
    "        else:\n",
    "            correct += 1\n",
    "            \n",
    "print(\"\\n==== ==== ==== ====\\n\")\n",
    "print(\"total epoch = {}\".format(epoch))\n",
    "print(\"weight-1 = {}\".format(w1))\n",
    "print(\"weight-2 = {}\".format(w2))\n",
    "print(\"bias = {}\".format(b))\n",
    "print(\"The line is {} * x1 + {} * x2 + {} = 0\".format(w1, w2, b))\n",
    "\n",
    "accuracy = correct / cnt\n",
    "\n",
    "print(\"Training accuracy = {}%\".format(accuracy*100))"
   ]
  },
  {
   "cell_type": "code",
   "execution_count": 6,
   "id": "b8aab75b",
   "metadata": {
    "scrolled": true
   },
   "outputs": [
    {
     "name": "stdout",
     "output_type": "stream",
     "text": [
      "test-1 correct\n",
      "test-2 correct\n",
      "test-3 correct\n",
      "test-4 correct\n",
      "test-5 correct\n",
      "test-6 correct\n",
      "test-7 correct\n",
      "test-8 incorrect, origin = 1\n",
      "test-9 correct\n",
      "test-10 correct\n",
      "Testing accuracy = 90.0%\n"
     ]
    }
   ],
   "source": [
    "cnt = 0\n",
    "yes = 0\n",
    "\n",
    "# Check test data\n",
    "for i in test:\n",
    "    cnt += 1\n",
    "    val = sign( w1 * i[0] + w2 * i[1] + b )\n",
    "    if i[2] == val:\n",
    "        yes += 1\n",
    "        print('test-{} correct'.format(cnt))\n",
    "    else:\n",
    "        print('test-{} incorrect, origin = {}'.format(cnt, i[2]))\n",
    "        \n",
    "accuracy = yes / cnt\n",
    "print(\"Testing accuracy = {}%\".format(accuracy*100))"
   ]
  },
  {
   "cell_type": "code",
   "execution_count": 7,
   "id": "c2fb54d3",
   "metadata": {},
   "outputs": [],
   "source": [
    "def line(x):\n",
    "    return ( w1 * x + b ) / (-w2)"
   ]
  },
  {
   "cell_type": "code",
   "execution_count": 8,
   "id": "492c77bb",
   "metadata": {},
   "outputs": [
    {
     "data": {
      "text/plain": [
       "<matplotlib.legend.Legend at 0x16dfb07a1c0>"
      ]
     },
     "execution_count": 8,
     "metadata": {},
     "output_type": "execute_result"
    },
    {
     "data": {
      "image/png": "[encoded data removed]",
      "text/plain": [
       "<Figure size 432x288 with 1 Axes>"
      ]
     },
     "metadata": {
      "needs_background": "light"
     },
     "output_type": "display_data"
    }
   ],
   "source": [
    "plt.title(\"Training and Testing Iris data\")\n",
    "plt.xlabel(\"sepal length\")\n",
    "plt.ylabel(\"sepal width\")\n",
    "\n",
    "g1 = []\n",
    "g2 = []\n",
    "r1 = []\n",
    "r2 = []\n",
    "c1 = []\n",
    "c2 = []\n",
    "m1 = []\n",
    "m2 = []\n",
    "\n",
    "# Show the relation of data and line\n",
    "# Grouping with class values\n",
    "for i in train:\n",
    "    if i[2] > 0:\n",
    "        g1.append(i[0])\n",
    "        g2.append(i[1])\n",
    "    elif i[2] < 0:\n",
    "        r1.append(i[0])\n",
    "        r2.append(i[1])\n",
    "    else:\n",
    "        plt.plot(i[0], i[1], 'xk', label='ambiguity (Train)')\n",
    "\n",
    "for i in test:\n",
    "    if i[2] > 0:\n",
    "        c1.append(i[0])\n",
    "        c2.append(i[1])\n",
    "    elif i[2] < 0:\n",
    "        m1.append(i[0])\n",
    "        m2.append(i[1])\n",
    "    else:\n",
    "        plt.plot(i[0], i[1], '^c', label='ambiguity (Test)')\n",
    "        \n",
    "        \n",
    "plt.plot(g1, g2, 'o', color='#00DB00', label='Y e s (Train)')\n",
    "plt.plot(r1, r2, '*', color='#FF0000', label='N o (Train)')\n",
    "\n",
    "plt.plot(c1, c2, '^', color='#FF8000', label='Y e s (Test)')\n",
    "plt.plot(m1, m2, '^', color='#6F00D2', label='N o (Test)')\n",
    "\n",
    "space = np.linspace(3.5, 8, 50)\n",
    "plt.plot(space, line(space), '-', color='#0080FF', label='PLA line')\n",
    "\n",
    "plt.legend()"
   ]
  },
  {
   "cell_type": "code",
   "execution_count": 9,
   "id": "2211df90",
   "metadata": {},
   "outputs": [
    {
     "data": {
      "text/plain": [
       "<matplotlib.legend.Legend at 0x16df97889a0>"
      ]
     },
     "execution_count": 9,
     "metadata": {},
     "output_type": "execute_result"
    },
    {
     "data": {
      "image/png": "[encoded data removed]",
      "text/plain": [
       "<Figure size 432x288 with 1 Axes>"
      ]
     },
     "metadata": {
      "needs_background": "light"
     },
     "output_type": "display_data"
    }
   ],
   "source": [
    "plt.title(\"Testing Iris data Only\")\n",
    "plt.xlabel(\"sepal length\")\n",
    "plt.ylabel(\"sepal width\")\n",
    "\n",
    "plt.plot(c1, c2, 'o', color='#FF8000', label='Y e s (Test)')\n",
    "plt.plot(m1, m2, 'x', color='#6F00D2', label='N o (Test)')\n",
    "\n",
    "space = np.linspace(3.5, 8, 50)\n",
    "plt.plot(space, line(space), '-', color='#0080FF', label='PLA line')\n",
    "\n",
    "plt.legend()"
   ]
  },
  {
   "cell_type": "code",
   "execution_count": null,
   "id": "488f4505",
   "metadata": {},
   "outputs": [],
   "source": []
  }
 ],
 "metadata": {
  "kernelspec": {
   "display_name": "Python (tensorflow-gpu)",
   "language": "python",
   "name": "tensorflow-gpu"
  },
  "language_info": {
   "codemirror_mode": {
    "name": "ipython",
    "version": 3
   },
   "file_extension": ".py",
   "mimetype": "text/x-python",
   "name": "python",
   "nbconvert_exporter": "python",
   "pygments_lexer": "ipython3",
   "version": "3.8.8"
  }
 },
 "nbformat": 4,
 "nbformat_minor": 5
}
